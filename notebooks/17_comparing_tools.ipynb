{
 "cells": [
  {
   "cell_type": "code",
   "execution_count": null,
   "metadata": {},
   "outputs": [],
   "source": [
    "%load_ext autoreload\n",
    "%autoreload 2"
   ]
  },
  {
   "cell_type": "markdown",
   "metadata": {},
   "source": [
    "# Comparing IntaRNA, RNAfold (ViennaRNA), NUPACK, \n",
    "\n",
    "Hfq g_mmpbsa (https://pubs.acs.org/doi/full/10.1021/ci500020m?casa_token=M0-hfsjTDJwAAAAA%3APKburjhjmdgJjdbuNB5UpHb6nScJ2bimjezqRppVMAmCF_olXTkF2udxV7mvFoQGxIipHJKh8EP1Llq0)"
   ]
  }
 ],
 "metadata": {
  "language_info": {
   "name": "python"
  }
 },
 "nbformat": 4,
 "nbformat_minor": 2
}
