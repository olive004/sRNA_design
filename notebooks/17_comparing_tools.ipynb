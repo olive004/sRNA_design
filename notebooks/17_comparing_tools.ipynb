{
 "cells": [
  {
   "cell_type": "code",
   "execution_count": null,
   "metadata": {},
   "outputs": [],
   "source": [
    "%load_ext autoreload\n",
    "%autoreload 2"
   ]
  },
  {
   "cell_type": "markdown",
   "metadata": {},
   "source": [
    "# Comparing IntaRNA, RNAfold (ViennaRNA), NUPACK, mfold, RNAcofold, UNAfold, RNAup, SEEDling\n",
    "\n",
    "And also Vfold2D, IsRNA, RNAstructure, ribosome calculator.\n",
    "\n",
    "- mfold / UNAfold (http://mfold.rna.albany.edu/) / DINAMelt (http://mfold.rna.albany.edu/?q=DINAMelt/Two-state-melting)\n",
    "    - https://ieeexplore.ieee.org/abstract/document/4118110\n",
    "    - https://academic.oup.com/nar/article/44/1/1/2499639#supplementary-data\n",
    "    - https://www.mdpi.com/1424-8220/17/9/1990\n",
    "    - https://www.nature.com/articles/nprot.2013.105\n",
    "    - https://www.nature.com/articles/nbt.2461#Fig2\n",
    "- RNAfold (ViennaRNA)\n",
    "    - https://ieeexplore.ieee.org/abstract/document/4118110\n",
    "    - https://academic.oup.com/nar/article/45/7/4108/2716524\n",
    "    - https://www.mdpi.com/1424-8220/17/9/1990\n",
    "- RNAstructure\n",
    "    - https://analyticalsciencejournals.onlinelibrary.wiley.com/doi/epdf/10.1002/bit.25693\n",
    "- NUPACK\n",
    "    - https://www.mdpi.com/1424-8220/17/9/1990 \n",
    "- RNAcofold (ViennaRNA?)\n",
    "    - https://www.mdpi.com/1424-8220/17/9/1990\n",
    "- RNAup\n",
    "    - https://www.mdpi.com/1424-8220/17/9/1990\n",
    "- IntaRNA\n",
    "    - https://www.mdpi.com/1424-8220/17/9/1990\n",
    "- SEEDling (https://github.com/DIGGER-Bac/SEEDling)\n",
    "    - https://arxiv.org/pdf/2304.14932.pdf\n",
    "- CAREng (https://caren.carleton.ca/)\n",
    "    - https://academic.oup.com/bioinformaticsadvances/article/2/1/vbac069/6722644\n",
    "    - Doesn't work too well\n",
    "- Vfold2D (https://scholar.google.com/scholar_lookup?title=Performance+of+MDockPP+in+CAPRI+rounds+28%E2%80%9329+and+31%E2%80%9335+including+the+prediction+of+water-mediated+interactions&author=Xu,+X.&author=Qiu,+L.&author=Yan,+C.&author=Ma,+Z.&author=Grinter,+S.Z.&author=Zou,+X.&publication_year=2017&journal=Proteins&volume=85&pages=424%E2%80%93434&doi=10.1002/prot.25203)\n",
    "    - https://www.mdpi.com/1422-0067/21/22/8420\n",
    "- IsRNA (MD)\n",
    "    - https://www.mdpi.com/1422-0067/21/22/8420 \n",
    "\n",
    "\n",
    "Other\n",
    "- Structure similarity: RNAdist\n",
    "- Protien-RNA: Hfq g_mmpbsa (https://pubs.acs.org/doi/full/10.1021/ci500020m?casa_token=M0-hfsjTDJwAAAAA%3APKburjhjmdgJjdbuNB5UpHb6nScJ2bimjezqRppVMAmCF_olXTkF2udxV7mvFoQGxIipHJKh8EP1Llq0)\n",
    "- Translation RNA-ribosome: RBS Calculator v2.0 (https://academic.oup.com/nar/article/44/1/1/2499639#119395952)\n",
    "- Pseudoknots: DotKnot https://dotknot.csse.uwa.edu.au/ \n",
    "- Sturcture:  RNAComposer (https://www.mdpi.com/1422-0067/18/11/2442)"
   ]
  },
  {
   "cell_type": "markdown",
   "metadata": {},
   "source": []
  }
 ],
 "metadata": {
  "language_info": {
   "name": "python"
  }
 },
 "nbformat": 4,
 "nbformat_minor": 2
}
