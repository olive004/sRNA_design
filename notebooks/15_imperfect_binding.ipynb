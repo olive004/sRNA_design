{
 "cells": [
  {
   "cell_type": "code",
   "execution_count": 29,
   "metadata": {},
   "outputs": [
    {
     "name": "stdout",
     "output_type": "stream",
     "text": [
      "The autoreload extension is already loaded. To reload it, use:\n",
      "  %reload_ext autoreload\n"
     ]
    }
   ],
   "source": [
    "%load_ext autoreload\n",
    "%autoreload 2"
   ]
  },
  {
   "cell_type": "markdown",
   "metadata": {},
   "source": [
    "# Desiging a synthetic ChiX with imperfect binding to GFP mRNA"
   ]
  },
  {
   "cell_type": "markdown",
   "metadata": {},
   "source": [
    "## Imports"
   ]
  },
  {
   "cell_type": "code",
   "execution_count": 30,
   "metadata": {},
   "outputs": [],
   "source": [
    "import pandas as pd\n",
    "import numpy as np\n",
    "from synbio_morpher.utils.data.data_format_tools.common import load_json_as_dict\n",
    "from synbio_morpher.utils.data.data_format_tools.manipulate_fasta import load_seq_from_FASTA\n",
    "from synbio_morpher.utils.misc.type_handling import flatten_listlike"
   ]
  },
  {
   "cell_type": "markdown",
   "metadata": {},
   "source": [
    "# Load data\n",
    "\n",
    "Load ChiX, synChiX, and GFP mRNA."
   ]
  },
  {
   "cell_type": "code",
   "execution_count": 31,
   "metadata": {},
   "outputs": [],
   "source": [
    "fn_muts = 'data/scott_mutations.fasta'\n",
    "fn_fps = 'data/mRNA.fasta'\n",
    "fn_all = '../data/sRNA/merged_EcoCyc_RNAInter_sRNATarBase.csv'\n",
    "fn_tus = '../data/sRNA/EcoCyc/EcoCyc_TUs.csv'\n",
    "\n",
    "muts = load_seq_from_FASTA(fn_muts, as_type='dict')\n",
    "fps = load_seq_from_FASTA(fn_fps, as_type='dict')\n",
    "data = pd.read_csv(fn_all, index_col=0)\n",
    "tus = pd.read_csv(fn_tus, index_col=0)"
   ]
  },
  {
   "cell_type": "code",
   "execution_count": 32,
   "metadata": {},
   "outputs": [],
   "source": [
    "fn_sim = './data/tests/2023_12_12_170150/inter_data_raw.json'\n",
    "sim_data_l = load_json_as_dict(fn_sim)\n",
    "\n",
    "default_vals = {\n",
    "    'id1': '', 'id2': '', 'E': 0.0, 'E_norm': 0.0, 'bpList': '', 'hybridDPfull': '', 'seedPu1': '', 'seedPu2': '', 'seedStart1': '', 'seedStart2': '', 'seedEnd1': '', 'seedEnd2': ''\n",
    "}\n",
    "mrnas = list(set(flatten_listlike([list(v.keys()) for v in sim_data_l.values()])))\n",
    "for s, v in sim_data_l.items():\n",
    "    if len(v.values()) < len(mrnas):\n",
    "        diffs = set(mrnas) - set(v.keys())\n",
    "        for d in diffs:\n",
    "            sim_data_l[s][d] = default_vals\n",
    "        "
   ]
  },
  {
   "cell_type": "code",
   "execution_count": 33,
   "metadata": {},
   "outputs": [
    {
     "data": {
      "text/plain": [
       "{'id1': 'cyRFP1',\n",
       " 'id2': 'Syn_ChiX_20-D',\n",
       " 'E': '-7.51',\n",
       " 'E_norm': '-0.676255',\n",
       " 'bpList': '(392,58):(393,57):(394,56):(395,55):(396,54):(397,53):(401,51):(403,49):(404,48):(405,47):(406,46):(407,45):(408,44):(409,43):(410,42)',\n",
       " 'hybridDPfull': '.......................................................................................................................................................................................................................................................................................................................................................................................................((((((...(.((((((((.................................................................................................................................................................................................................................................................................................................................&.........................................)))))))).).)))))).................................',\n",
       " 'seedPu1': '0.0059331489037627244:0.01251489668783312',\n",
       " 'seedPu2': '0.55760111797565881:0.55760111797565881',\n",
       " 'seedStart1': '403:404',\n",
       " 'seedStart2': '43:42',\n",
       " 'seedEnd1': '409:410',\n",
       " 'seedEnd2': '49:48'}"
      ]
     },
     "execution_count": 33,
     "metadata": {},
     "output_type": "execute_result"
    }
   ],
   "source": [
    "sim_data_l['Syn_ChiX_20-D']['cyRFP1']"
   ]
  },
  {
   "cell_type": "code",
   "execution_count": 34,
   "metadata": {},
   "outputs": [
    {
     "data": {
      "text/plain": [
       "[44, 64]"
      ]
     },
     "execution_count": 34,
     "metadata": {},
     "output_type": "execute_result"
    }
   ],
   "source": [
    "def convert_seed_to_int(seedstr):\n",
    "    return list(map(lambda x: int(x), seedstr.split(':')))\n",
    "\n",
    "seed_region = list(map(lambda x: int(x.strip('()').split(',')[-1]), sim_data_l['Syn_ChiX_20-D']['EGFP']['bpList'].split(':')))\n",
    "seed_region = sorted([seed_region[0], seed_region[-1]])\n",
    "seed_region"
   ]
  },
  {
   "cell_type": "markdown",
   "metadata": {},
   "source": [
    "# Mutate seed region\n",
    "\n",
    "Do 1, 2, 3, 5, 7, and 10 mutations."
   ]
  },
  {
   "cell_type": "code",
   "execution_count": 42,
   "metadata": {},
   "outputs": [],
   "source": [
    "def choose_positions(start, end, bpcount):\n",
    "    return np.random.choice(np.arange(start, end), bpcount, replace=False)\n",
    "\n",
    "\n",
    "def choose_types(seq, positions, nuc_map, nucs, bpcount):\n",
    "    int_types = np.random.randint(0, len(nucs)-1, bpcount)\n",
    "    mutation_types = []\n",
    "    for bp, i in zip(seq[positions], int_types):\n",
    "        mutation_types.append(nuc_map[bp][i])\n",
    "    return mutation_types\n",
    "\n",
    "\n",
    "def implement_mutation(mutation_count: int, seq: str, seed_region: tuple, nucs: list, nuc_map: dict, mutations_per_count: int):\n",
    "    positions = choose_positions(start=seed_region[0], end=seed_region[-1] + 1, bpcount=mutations_per_count*mutation_count)\n",
    "    mutation_types = choose_types(np.array(list(seq)), p, nuc_map=nuc_map, nucs=nucs, bpcount=mutations_per_count*mutation_count)\n",
    "    positions, mutation_types = positions.reshape((mutations_per_count, mutation_count)).astype(int), mutation_types.reshape((mutations_per_count, mutation_count))\n",
    "    \n",
    "    mutants = np.repeat(np.array(list(seq)), repeats=mutations_per_count).reshape((mutations_per_count, len(seq)))\n",
    "    mutants[positions] = mutation_types\n",
    "        \n",
    "    return mutants"
   ]
  },
  {
   "cell_type": "code",
   "execution_count": 36,
   "metadata": {},
   "outputs": [],
   "source": [
    "nucs = ['A', 'C', 'G', 'T']\n",
    "nuc_map = {}\n",
    "for n1 in nucs:\n",
    "    nuc_map[n1] = sorted([n2 for n2 in nucs if n2 != n1])"
   ]
  },
  {
   "cell_type": "code",
   "execution_count": 40,
   "metadata": {},
   "outputs": [
    {
     "ename": "ValueError",
     "evalue": "cannot reshape array of size 64 into shape (20,1)",
     "output_type": "error",
     "traceback": [
      "\u001b[0;31m---------------------------------------------------------------------------\u001b[0m",
      "\u001b[0;31mValueError\u001b[0m                                Traceback (most recent call last)",
      "Cell \u001b[0;32mIn[40], line 5\u001b[0m\n\u001b[1;32m      3\u001b[0m seq \u001b[38;5;241m=\u001b[39m muts[\u001b[38;5;124m'\u001b[39m\u001b[38;5;124mSyn_ChiX_20-D\u001b[39m\u001b[38;5;124m'\u001b[39m]\n\u001b[1;32m      4\u001b[0m \u001b[38;5;28;01mfor\u001b[39;00m mutation_count \u001b[38;5;129;01min\u001b[39;00m mutation_counts:\n\u001b[0;32m----> 5\u001b[0m     mutants \u001b[38;5;241m=\u001b[39m \u001b[43mimplement_mutation\u001b[49m\u001b[43m(\u001b[49m\u001b[43mmutation_count\u001b[49m\u001b[43m,\u001b[49m\u001b[43m \u001b[49m\u001b[43mseq\u001b[49m\u001b[43m,\u001b[49m\u001b[43m \u001b[49m\u001b[43mseed_region\u001b[49m\u001b[43m,\u001b[49m\u001b[43m \u001b[49m\u001b[43mnucs\u001b[49m\u001b[43m,\u001b[49m\u001b[43m \u001b[49m\u001b[43mnuc_map\u001b[49m\u001b[43m,\u001b[49m\u001b[43m \u001b[49m\u001b[43mmutations_per_count\u001b[49m\u001b[43m)\u001b[49m\n",
      "Cell \u001b[0;32mIn[39], line 21\u001b[0m, in \u001b[0;36mimplement_mutation\u001b[0;34m(mutation_count, seq, seed_region, nucs, nuc_map, mutations_per_count)\u001b[0m\n\u001b[1;32m     18\u001b[0m     positions \u001b[38;5;241m=\u001b[39m np\u001b[38;5;241m.\u001b[39mconcatenate([positions, p])\n\u001b[1;32m     19\u001b[0m     mutation_types \u001b[38;5;241m=\u001b[39m np\u001b[38;5;241m.\u001b[39mconcatenate([mutation_types, m])\n\u001b[0;32m---> 21\u001b[0m positions, mutation_types \u001b[38;5;241m=\u001b[39m \u001b[43mpositions\u001b[49m\u001b[38;5;241;43m.\u001b[39;49m\u001b[43mreshape\u001b[49m\u001b[43m(\u001b[49m\u001b[43m(\u001b[49m\u001b[43mmutations_per_count\u001b[49m\u001b[43m,\u001b[49m\u001b[43m \u001b[49m\u001b[43mmutation_count\u001b[49m\u001b[43m)\u001b[49m\u001b[43m)\u001b[49m\u001b[38;5;241m.\u001b[39mastype(\u001b[38;5;28mint\u001b[39m), mutation_types\u001b[38;5;241m.\u001b[39mreshape((mutations_per_count, mutation_count))\n\u001b[1;32m     23\u001b[0m mutants \u001b[38;5;241m=\u001b[39m np\u001b[38;5;241m.\u001b[39mrepeat(np\u001b[38;5;241m.\u001b[39marray(\u001b[38;5;28mlist\u001b[39m(seq)), repeats\u001b[38;5;241m=\u001b[39mmutations_per_count)\u001b[38;5;241m.\u001b[39mreshape((mutations_per_count, \u001b[38;5;28mlen\u001b[39m(seq)))\n\u001b[1;32m     24\u001b[0m mutants[positions] \u001b[38;5;241m=\u001b[39m mutation_types\n",
      "\u001b[0;31mValueError\u001b[0m: cannot reshape array of size 64 into shape (20,1)"
     ]
    }
   ],
   "source": [
    "mutation_counts = [1,2,3,5,7,10]\n",
    "mutations_per_count = 20\n",
    "seq = muts['Syn_ChiX_20-D']\n",
    "for mutation_count in mutation_counts:\n",
    "    mutants = implement_mutation(mutation_count, seq, seed_region, nucs, nuc_map, mutations_per_count)"
   ]
  },
  {
   "cell_type": "markdown",
   "metadata": {},
   "source": [
    "# Simulate interactions\n",
    "\n",
    "GFP vs. file with all mutants in it. Set thread count to max."
   ]
  },
  {
   "cell_type": "markdown",
   "metadata": {},
   "source": [
    "# Pick scale of lowest - highest sRNA binders"
   ]
  },
  {
   "cell_type": "markdown",
   "metadata": {},
   "source": []
  }
 ],
 "metadata": {
  "kernelspec": {
   "display_name": "env_evo",
   "language": "python",
   "name": "python3"
  },
  "language_info": {
   "codemirror_mode": {
    "name": "ipython",
    "version": 3
   },
   "file_extension": ".py",
   "mimetype": "text/x-python",
   "name": "python",
   "nbconvert_exporter": "python",
   "pygments_lexer": "ipython3",
   "version": "3.10.12"
  }
 },
 "nbformat": 4,
 "nbformat_minor": 2
}
