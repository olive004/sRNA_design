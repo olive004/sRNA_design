{
 "cells": [
  {
   "cell_type": "code",
   "execution_count": 2,
   "metadata": {},
   "outputs": [],
   "source": [
    "%load_ext autoreload\n",
    "%autoreload 2"
   ]
  },
  {
   "cell_type": "markdown",
   "metadata": {},
   "source": [
    "# Desiging a synthetic ChiX with imperfect binding to GFP mRNA"
   ]
  },
  {
   "cell_type": "markdown",
   "metadata": {},
   "source": [
    "## Imports"
   ]
  },
  {
   "cell_type": "code",
   "execution_count": 3,
   "metadata": {},
   "outputs": [],
   "source": [
    "import pandas as pd\n",
    "import numpy as np\n",
    "from synbio_morpher.utils.data.data_format_tools.common import load_json_as_dict\n",
    "from synbio_morpher.utils.data.data_format_tools.manipulate_fasta import load_seq_from_FASTA\n",
    "from synbio_morpher.utils.misc.type_handling import flatten_listlike"
   ]
  },
  {
   "cell_type": "markdown",
   "metadata": {},
   "source": [
    "# Load data\n",
    "\n",
    "Load ChiX, synChiX, and GFP mRNA."
   ]
  },
  {
   "cell_type": "code",
   "execution_count": 4,
   "metadata": {},
   "outputs": [],
   "source": [
    "fn_muts = 'data/scott_mutations.fasta'\n",
    "fn_fps = 'data/mRNA.fasta'\n",
    "fn_all = '../data/sRNA/merged_EcoCyc_RNAInter_sRNATarBase.csv'\n",
    "fn_tus = '../data/sRNA/EcoCyc/EcoCyc_TUs.csv'\n",
    "\n",
    "muts = load_seq_from_FASTA(fn_muts, as_type='dict')\n",
    "fps = load_seq_from_FASTA(fn_fps, as_type='dict')\n",
    "data = pd.read_csv(fn_all, index_col=0)\n",
    "tus = pd.read_csv(fn_tus, index_col=0)"
   ]
  },
  {
   "cell_type": "code",
   "execution_count": 5,
   "metadata": {},
   "outputs": [],
   "source": [
    "fn_sim = './data/tests/2023_12_12_170150/inter_data_raw.json'\n",
    "sim_data_l = load_json_as_dict(fn_sim)\n",
    "\n",
    "default_vals = {\n",
    "    'id1': '', 'id2': '', 'E': 0.0, 'E_norm': 0.0, 'bpList': '', 'hybridDPfull': '', 'seedPu1': '', 'seedPu2': '', 'seedStart1': '', 'seedStart2': '', 'seedEnd1': '', 'seedEnd2': ''\n",
    "}\n",
    "mrnas = list(set(flatten_listlike([list(v.keys()) for v in sim_data_l.values()])))\n",
    "for s, v in sim_data_l.items():\n",
    "    if len(v.values()) < len(mrnas):\n",
    "        diffs = set(mrnas) - set(v.keys())\n",
    "        for d in diffs:\n",
    "            sim_data_l[s][d] = default_vals\n",
    "        "
   ]
  },
  {
   "cell_type": "code",
   "execution_count": 6,
   "metadata": {},
   "outputs": [
    {
     "data": {
      "text/plain": [
       "{'id1': 'cyRFP1',\n",
       " 'id2': 'Syn_ChiX_20-D',\n",
       " 'E': '-7.51',\n",
       " 'E_norm': '-0.676255',\n",
       " 'bpList': '(392,58):(393,57):(394,56):(395,55):(396,54):(397,53):(401,51):(403,49):(404,48):(405,47):(406,46):(407,45):(408,44):(409,43):(410,42)',\n",
       " 'hybridDPfull': '.......................................................................................................................................................................................................................................................................................................................................................................................................((((((...(.((((((((.................................................................................................................................................................................................................................................................................................................................&.........................................)))))))).).)))))).................................',\n",
       " 'seedPu1': '0.0059331489037627244:0.01251489668783312',\n",
       " 'seedPu2': '0.55760111797565881:0.55760111797565881',\n",
       " 'seedStart1': '403:404',\n",
       " 'seedStart2': '43:42',\n",
       " 'seedEnd1': '409:410',\n",
       " 'seedEnd2': '49:48'}"
      ]
     },
     "execution_count": 6,
     "metadata": {},
     "output_type": "execute_result"
    }
   ],
   "source": [
    "sim_data_l['Syn_ChiX_20-D']['cyRFP1']"
   ]
  },
  {
   "cell_type": "code",
   "execution_count": 10,
   "metadata": {},
   "outputs": [
    {
     "data": {
      "text/plain": [
       "[44, 64]"
      ]
     },
     "execution_count": 10,
     "metadata": {},
     "output_type": "execute_result"
    }
   ],
   "source": [
    "def convert_seed_to_int(seedstr):\n",
    "    return list(map(lambda x: int(x), seedstr.split(':')))\n",
    "\n",
    "seed_region = list(map(lambda x: int(x.strip('()').split(',')[-1]), sim_data_l['Syn_ChiX_20-D']['EGFP']['bpList'].split(':')))\n",
    "seed_region = sorted([seed_region[0], seed_region[-1]])\n",
    "seed_region"
   ]
  },
  {
   "cell_type": "markdown",
   "metadata": {},
   "source": [
    "# Mutate seed region\n",
    "\n",
    "Do 1, 2, 3, 5, 7, and 10 mutations."
   ]
  },
  {
   "cell_type": "code",
   "execution_count": 11,
   "metadata": {},
   "outputs": [
    {
     "data": {
      "text/plain": [
       "{}"
      ]
     },
     "execution_count": 11,
     "metadata": {},
     "output_type": "execute_result"
    }
   ],
   "source": [
    "def choose_positions():\n",
    "    return\n",
    "\n",
    "nucs = ['A', 'C', 'G', 'U']\n",
    "mutation_types = {}\n",
    "for n1 in nucs:\n",
    "    for n2 in nucs:\n",
    "        mutation_types[n1] = \n",
    "mutation_types = {k: sorted(v) for k, v in zip(nucs, nucs) if k != v}\n",
    "mutation_types"
   ]
  },
  {
   "cell_type": "code",
   "execution_count": null,
   "metadata": {},
   "outputs": [],
   "source": [
    "mutation_counts = [1,2,3,5,7,10]\n",
    "mutations_per_count = 20\n",
    "seq = muts['Syn_ChiX_20-D']\n",
    "for mutation_count in mutation_counts:\n",
    "    positions = choose_positions()\n",
    "    mutation_types \n",
    "    implement_mutation"
   ]
  },
  {
   "cell_type": "markdown",
   "metadata": {},
   "source": [
    "# Simulate interactions\n",
    "\n",
    "GFP vs. file with all mutants in it. Set thread count to max."
   ]
  },
  {
   "cell_type": "markdown",
   "metadata": {},
   "source": [
    "# Pick scale of lowest - highest sRNA binders"
   ]
  },
  {
   "cell_type": "markdown",
   "metadata": {},
   "source": []
  }
 ],
 "metadata": {
  "kernelspec": {
   "display_name": "env_evo",
   "language": "python",
   "name": "python3"
  },
  "language_info": {
   "codemirror_mode": {
    "name": "ipython",
    "version": 3
   },
   "file_extension": ".py",
   "mimetype": "text/x-python",
   "name": "python",
   "nbconvert_exporter": "python",
   "pygments_lexer": "ipython3",
   "version": "3.10.12"
  }
 },
 "nbformat": 4,
 "nbformat_minor": 2
}
