{
 "cells": [
  {
   "cell_type": "code",
   "execution_count": 1,
   "metadata": {},
   "outputs": [],
   "source": [
    "%load_ext autoreload\n",
    "%autoreload 2"
   ]
  },
  {
   "cell_type": "markdown",
   "metadata": {},
   "source": [
    "# Orthogonality of our sponge circuit components to sRNA network\n",
    "\n",
    "The circuit is composed of a synthetic sRNA and two fluorescent proteins mRNA's, cyRFP and EGFP.\n",
    "\n",
    "## Imports"
   ]
  },
  {
   "cell_type": "code",
   "execution_count": null,
   "metadata": {},
   "outputs": [],
   "source": [
    "import os\n",
    "import pandas as pd\n",
    "import re\n",
    "import logging \n",
    "\n",
    "from synbio_morpher.srv.io.manage.script_manager import script_preamble\n",
    "from synbio_morpher.srv.parameter_prediction.IntaRNA.bin.copomus.IntaRNA import IntaRNA\n",
    "from synbio_morpher.srv.parameter_prediction.simulator import process_raw_stdout\n",
    "from synbio_morpher.utils.circuit.common.config_setup import retrieve_default_args, load_simulator_kwargs\n",
    "from synbio_morpher.utils.common.setup import prepare_config, expand_config\n",
    "from synbio_morpher.utils.data.data_format_tools.common import load_json_as_dict\n",
    "from synbio_morpher.utils.data.data_format_tools.manipulate_fasta import load_seq_from_FASTA, write_fasta_file\n",
    "from synbio_morpher.utils.misc.numerical import count_monotonic_group_lengths, find_monotonic_group_idxs\n",
    "from synbio_morpher.utils.misc.string_handling import string_to_tuple_list\n",
    "from synbio_morpher.utils.misc.type_handling import get_nth_elements, flatten_listlike\n",
    "\n",
    "from subprocess import Popen, PIPE, run\n",
    "from datetime import datetime\n",
    "import seaborn as sns\n",
    "import matplotlib.pyplot as plt\n",
    "import numpy as np\n",
    "import jax\n",
    "\n"
   ]
  },
  {
   "cell_type": "markdown",
   "metadata": {},
   "source": [
    "# Load data\n",
    "\n",
    "Load the sequences for EGFP and cyRFP, along with synthetic ChiX and the other sRNA's."
   ]
  },
  {
   "cell_type": "code",
   "execution_count": null,
   "metadata": {},
   "outputs": [],
   "source": [
    "fn_tus = os.path.join('..', 'data', 'sRNA', 'EcoCyc', 'EcoCyc_TUs.csv')\n",
    "fn_merged = os.path.join('..', 'data', 'sRNA', 'merged_EcoCyc_RNAInter_sRNATarBase.csv')\n",
    "fn_inter = os.path.join('..', 'data', 'sRNA', 'merged_inter.csv')\n",
    "d_tus = pd.read_csv(fn_tus, index_col=0)\n",
    "d_merged = pd.read_csv(fn_merged, index_col=0)\n",
    "d_inter = pd.read_csv(fn_inter, index_col=0)\n",
    "\n",
    "fn_fps = 'data/fps.fasta'\n",
    "fn_muts = 'data/scott_mutations.fasta'\n",
    "muts = load_seq_from_FASTA(fn_muts, as_type='dict')\n",
    "fps = load_seq_from_FASTA(fn_fps, as_type='dict')"
   ]
  },
  {
   "cell_type": "markdown",
   "metadata": {},
   "source": [
    "## Select sRNAs from database"
   ]
  },
  {
   "cell_type": "code",
   "execution_count": null,
   "metadata": {},
   "outputs": [],
   "source": [
    "srnas = {}\n",
    "filt_srna1 = d_inter['Category 1'].isin(['sRNA', 'trans-encoded antisense RNA', 'protein binding small RNA'])\n",
    "filt_srna2 = d_inter['Category 2'].isin(['sRNA', 'trans-encoded antisense RNA', 'protein binding small RNA']) & (~d_inter['Category 1'].isin(['Protein']))\n",
    "for i in [1, 2]:\n",
    "    filt = filt_srna1 if i == 1 else filt_srna2\n",
    "    for s in d_inter[f'Interactor {i}'].unique():\n",
    "        seq = d_inter[d_inter[f'Interactor {i}'] == s][f'Sequence {i}'].iloc[0]\n",
    "        offset = d_inter[d_inter[f'Interactor {i}'] == s][f'Binding position {i}'].iloc[0]\n",
    "        if offset:\n",
    "            offset = np.min(offset)\n",
    "            if offset < 0: \n",
    "                seq = d_inter[d_inter[f'Interactor {i}'] == s][f'Sequence before {i}'].iloc[0] + seq\n",
    "        if s in d_inter[d_inter[f'Category {i}'] == 'mRNA'][f'Interactor {i}'].unique():\n",
    "            # mrnas[s] = seq.replace('T', 'U').replace('t', 'u')\n",
    "            pass\n",
    "        elif s in d_inter[filt][f'Interactor {i}'].unique():\n",
    "            srnas[s] = seq.replace('T', 'U').replace('t', 'u')\n",
    "            "
   ]
  },
  {
   "cell_type": "markdown",
   "metadata": {},
   "source": [
    "# Run IntaRNA\n",
    "\n",
    "May need to put all the sRNA's into one fasta."
   ]
  },
  {
   "cell_type": "code",
   "execution_count": null,
   "metadata": {},
   "outputs": [],
   "source": [
    "top_dir = 'data/16_orthogonality_synthetics'\n",
    "fn_query = os.path.join('query.fasta')\n",
    "fn_targets = os.path.join('targets.fasta')\n"
   ]
  },
  {
   "cell_type": "code",
   "execution_count": null,
   "metadata": {},
   "outputs": [],
   "source": [
    "run_intarna = False\n",
    "\n",
    "config = {\n",
    "    \"experiment\": {\n",
    "        \"purpose\": \"tests\",\n",
    "        },\n",
    "        \"data\": {},\n",
    "        \"system_type\": \"RNA\",\n",
    "        \"interaction_simulator\": {\n",
    "            \"name\": \"IntaRNA\",\n",
    "            \"postprocess\": True,\n",
    "            \"simulator_kwargs\": {\n",
    "                \"outcsvcols\": \"id1, id2, E, E_norm, bpList, hybridDPfull, seedPu1, seedPu2, seedStart1, seedStart2, seedEnd1, seedEnd2\",\n",
    "                \"threads\": 6,\n",
    "                \"n\": 1,\n",
    "                \"raw_stdout\": True\n",
    "            }\n",
    "        }\n",
    "    }\n",
    "\n",
    "\n",
    "if run_intarna:\n",
    "    data_writer = None\n",
    "    config, data_writer = script_preamble(config, data_writer)\n",
    "    config = prepare_config(expand_config(config=config))\n",
    "    \n",
    "    os.rmdir(data_writer.top_write_dir)\n",
    "    data_writer.top_write_dir = top_dir\n",
    "    data_writer.reset_ensemble()\n",
    "    data_writer.unsubdivide()"
   ]
  },
  {
   "cell_type": "code",
   "execution_count": null,
   "metadata": {},
   "outputs": [],
   "source": [
    "\n",
    "def simulate_IntaRNA_local(fn_query: str,\n",
    "                           fn_targets: str,\n",
    "                           sim_kwargs={}):\n",
    "    sim_kwargs['query'] = fn_query\n",
    "    sim_kwargs['target'] = fn_targets\n",
    "\n",
    "    def run(query: str, target: str, qidxpos0: int, tidxpos0: int, outcsvcols: str, threads: int, n: int = 1,\n",
    "            param_file: str = '', extra_params: list = [], raw_stdout: bool = False):\n",
    "        p = Popen(['IntaRNA', '-q', query, '-t', target,\n",
    "                   '--outMode=C', f'--outcsvcols={outcsvcols}',\n",
    "                   f'--qIdxPos0={qidxpos0}',\n",
    "                   f'--tIdxPos0={tidxpos0}',\n",
    "                   f'--outNumber={n}',\n",
    "                   f'--threads={threads}', param_file]\n",
    "                  + extra_params, stdout=PIPE, stderr=PIPE, universal_newlines=True)\n",
    "        stdout, stderr = p.communicate()\n",
    "        return process_raw_stdout(stdout)\n",
    "\n",
    "    return run(**sim_kwargs)\n",
    "\n",
    "\n",
    "if run_intarna:\n",
    "\n",
    "    sim_data = simulate_IntaRNA_local(fn_query=fn,\n",
    "                                      fn_targets=fn_fps,\n",
    "                                      sim_kwargs=config['interaction_simulator']['simulator_kwargs'])\n",
    "\n",
    "    data_writer.output(data=sim_data, out_type='json',\n",
    "                       out_name='inter_data_raw', overwrite=True)\n",
    "    print(data_writer.write_dir)"
   ]
  },
  {
   "cell_type": "code",
   "execution_count": null,
   "metadata": {},
   "outputs": [],
   "source": []
  },
  {
   "cell_type": "markdown",
   "metadata": {},
   "source": [
    "# Visualise"
   ]
  },
  {
   "cell_type": "markdown",
   "metadata": {},
   "source": []
  }
 ],
 "metadata": {
  "kernelspec": {
   "display_name": "env_evo",
   "language": "python",
   "name": "python3"
  },
  "language_info": {
   "codemirror_mode": {
    "name": "ipython",
    "version": 3
   },
   "file_extension": ".py",
   "mimetype": "text/x-python",
   "name": "python",
   "nbconvert_exporter": "python",
   "pygments_lexer": "ipython3",
   "version": "3.10.12"
  }
 },
 "nbformat": 4,
 "nbformat_minor": 2
}
