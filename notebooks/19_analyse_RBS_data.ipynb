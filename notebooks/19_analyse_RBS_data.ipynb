{
 "cells": [
  {
   "cell_type": "code",
   "execution_count": null,
   "id": "0f291322",
   "metadata": {},
   "outputs": [],
   "source": [
    "%load_ext autoreload\n",
    "%autoreload 2"
   ]
  },
  {
   "cell_type": "markdown",
   "id": "7e1699cc",
   "metadata": {},
   "source": [
    "# Analyse the RBS data from Salis 2009"
   ]
  },
  {
   "cell_type": "code",
   "execution_count": null,
   "id": "c4d32604",
   "metadata": {},
   "outputs": [],
   "source": [
    "import os\n",
    "\n",
    "fn = os.path.join('data', 'RBSCalculatorData.xlsx')"
   ]
  },
  {
   "cell_type": "code",
   "execution_count": null,
   "id": "82ff44f8",
   "metadata": {},
   "outputs": [],
   "source": [
    "import pandas as pd\n",
    "\n",
    "# Read the Excel file\n",
    "excel_file = pd.ExcelFile(fn)\n",
    "\n",
    "# Read the Salis 2009 sheet\n",
    "df = excel_file.parse('Salis 2009')\n",
    "\n",
    "# Display the column names\n",
    "print(\"Column names:\")\n",
    "print(df.columns.tolist())\n",
    "print(\"\\nShape of dataframe:\", df.shape)"
   ]
  },
  {
   "cell_type": "code",
   "execution_count": null,
   "id": "fcc5b74f",
   "metadata": {},
   "outputs": [],
   "source": [
    "# Let's look at the first 20 rows to understand the structure\n",
    "print(\"First 20 rows:\")\n",
    "for i in range(20):\n",
    "    print(f\"Row {i}: {df.iloc[i].tolist()}\")"
   ]
  },
  {
   "cell_type": "code",
   "execution_count": null,
   "id": "d7a8bb7c",
   "metadata": {},
   "outputs": [],
   "source": [
    "# Read the Excel file again\n",
    "import pandas as pd\n",
    "import numpy as np\n",
    "\n",
    "# Read the Salis 2009 sheet\n",
    "df = pd.read_excel(fn, sheet_name='Salis 2009', header=None)\n",
    "\n",
    "# Initialize lists to store the data\n",
    "data_rows = []\n",
    "\n",
    "# Process the spacer series section (rows 2-14)\n",
    "for i in range(2, 15):\n",
    "    row = df.iloc[i]\n",
    "    if pd.notna(row[1]):  # Check if mRNA sequence exists\n",
    "        data_rows.append({\n",
    "            'mRNA sequence': row[1],\n",
    "            'Predicted dG_tot [kcal/mol]': row[5],\n",
    "            'Average Fluorescence [au]': row[2],\n",
    "            'Standard Deviation of Fluorescence [au]': row[3],\n",
    "            'n': 5,  # n=5 for this section\n",
    "            'Doubling Time [hours]': np.nan,  # Not available for this section\n",
    "            'Prediction #': np.nan,  # Not available for this section\n",
    "            'Log Average Fluorescence [au]': row[7],\n",
    "            'Spacer Series #': row[6]\n",
    "        })\n",
    "\n",
    "print(f\"Processed {len(data_rows)} rows from spacer series section\")"
   ]
  },
  {
   "cell_type": "code",
   "execution_count": null,
   "id": "c7dbfac7",
   "metadata": {},
   "outputs": [],
   "source": [
    "# Continue processing the reverse engineered RBS series (rows 17-24)\n",
    "for i in range(17, 25):\n",
    "    row = df.iloc[i]\n",
    "    if pd.notna(row[1]) and row[1] != 'mRNA sequence (containing the RBS and the beginning of the mRFP1 protein coding sequence, XbaI and SacI sites bolded)':\n",
    "        data_rows.append({\n",
    "            'mRNA sequence': row[1],\n",
    "            'Predicted dG_tot [kcal/mol]': row[2],\n",
    "            'Average Fluorescence [au]': row[3],\n",
    "            'Standard Deviation of Fluorescence [au]': row[4],\n",
    "            'n': 6,  # n=6 for this section\n",
    "            'Doubling Time [hours]': row[5],\n",
    "            'Prediction #': row[7],\n",
    "            'Log Average Fluorescence [au]': row[8],\n",
    "            'Spacer Series #': np.nan  # Not available for this section\n",
    "        })\n",
    "\n",
    "print(f\"Total rows after reverse engineered section: {len(data_rows)}\")"
   ]
  },
  {
   "cell_type": "code",
   "execution_count": null,
   "id": "e595a43c",
   "metadata": {},
   "outputs": [],
   "source": [
    "# Continue processing the rest of the data\n",
    "# Find where the next sections start\n",
    "for i in range(25, len(df)):\n",
    "    row = df.iloc[i]\n",
    "    if pd.notna(row[1]) and isinstance(row[1], str) and len(row[1]) > 50:  # Likely an mRNA sequence\n",
    "        # Check which format this row follows\n",
    "        if pd.notna(row[2]) and pd.notna(row[3]) and pd.notna(row[4]):\n",
    "            # This appears to be the format with Predicted dG_tot in column 2\n",
    "            data_rows.append({\n",
    "                'mRNA sequence': row[1],\n",
    "                'Predicted dG_tot [kcal/mol]': row[2],\n",
    "                'Average Fluorescence [au]': row[3],\n",
    "                'Standard Deviation of Fluorescence [au]': row[4],\n",
    "                'n': 6 if pd.notna(row[5]) else np.nan,\n",
    "                'Doubling Time [hours]': row[5] if pd.notna(row[5]) else np.nan,\n",
    "                'Prediction #': row[7] if pd.notna(row[7]) else np.nan,\n",
    "                'Log Average Fluorescence [au]': row[8] if pd.notna(row[8]) else np.nan,\n",
    "                'Spacer Series #': np.nan\n",
    "            })\n",
    "\n",
    "print(f\"Total rows processed: {len(data_rows)}\")"
   ]
  },
  {
   "cell_type": "code",
   "execution_count": null,
   "id": "24595473",
   "metadata": {},
   "outputs": [],
   "source": [
    "# Remove the header row that was accidentally included\n",
    "data_rows = [row for row in data_rows if not row['mRNA sequence'].startswith('mRNA sequence')]\n",
    "\n",
    "# Create a DataFrame from the collected data\n",
    "result_df = pd.DataFrame(data_rows)\n",
    "\n",
    "# Reorder columns as requested\n",
    "columns_order = [\n",
    "    'mRNA sequence',\n",
    "    'Predicted dG_tot [kcal/mol]',\n",
    "    'Average Fluorescence [au]',\n",
    "    'Standard Deviation of Fluorescence [au]',\n",
    "    'n',\n",
    "    'Doubling Time [hours]',\n",
    "    'Prediction #',\n",
    "    'Log Average Fluorescence [au]',\n",
    "    'Spacer Series #'\n",
    "]\n",
    "\n",
    "result_df = result_df[columns_order]\n",
    "\n",
    "print(f\"Final dataframe shape: {result_df.shape}\")\n",
    "print(\"\\nFirst few rows:\")\n",
    "print(result_df.head())"
   ]
  },
  {
   "cell_type": "code",
   "execution_count": null,
   "id": "6c1adcd4",
   "metadata": {},
   "outputs": [],
   "source": [
    "# Now save this to a new Excel file with the extracted data\n",
    "with pd.ExcelWriter('RBSCalculatorData_Extracted.xlsx', engine='openpyxl') as writer:\n",
    "    result_df.to_excel(writer, sheet_name='Salis 2009 Extracted', index=False)\n",
    "\n",
    "print(\"New Excel file created: RBSCalculatorData_Extracted.xlsx\")\n",
    "print(f\"\\nTotal number of rows extracted: {len(result_df)}\")\n",
    "print(\"\\nColumn summary:\")\n",
    "for col in columns_order:\n",
    "    non_null = result_df[col].notna().sum()\n",
    "    print(f\"  {col}: {non_null} non-null values\")"
   ]
  },
  {
   "cell_type": "code",
   "execution_count": null,
   "id": "6e7849ae",
   "metadata": {},
   "outputs": [],
   "source": [
    "# Show sample rows from different sections\n",
    "print(\"Sample rows from the extracted data:\\n\")\n",
    "\n",
    "print(\"First 3 rows (Spacer Series):\")\n",
    "print(result_df.head(3).to_string())\n",
    "\n",
    "print(\"\\n\\nRows 13-16 (Reverse engineered RBS series):\")\n",
    "print(result_df.iloc[13:16].to_string())\n",
    "\n",
    "print(\"\\n\\nRows 100-103 (Later sections):\")\n",
    "print(result_df.iloc[100:103].to_string())"
   ]
  }
 ],
 "metadata": {
  "language_info": {
   "name": "python"
  }
 },
 "nbformat": 4,
 "nbformat_minor": 5
}
